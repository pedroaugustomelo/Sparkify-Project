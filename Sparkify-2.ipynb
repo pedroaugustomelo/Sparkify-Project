{
 "cells": [
  {
   "cell_type": "markdown",
   "metadata": {},
   "source": [
    "# Sparkify Project Workspace\n",
    "This workspace contains a tiny subset (128MB) of the full dataset available (12GB). Feel free to use this workspace to build your project, or to explore a smaller subset with Spark before deploying your cluster on the cloud. Instructions for setting up your Spark cluster is included in the last lesson of the Extracurricular Spark Course content.\n",
    "\n",
    "You can follow the steps below to guide your data analysis and model building portion of this project."
   ]
  },
  {
   "cell_type": "code",
   "execution_count": 1,
   "metadata": {},
   "outputs": [],
   "source": [
    "# import libraries\n",
    "\n",
    "from pyspark.sql import SparkSession\n",
    "from pyspark.sql.functions import avg, col, concat, desc, explode,rand, lit, min, max, sum, split, udf, isnan, when, count, countDistinct\n",
    "from pyspark.sql.types import IntegerType\n",
    "from pyspark.sql.types import DateType\n",
    "from pyspark.sql.window import Window\n",
    "import datetime\n",
    "from pyspark.sql.functions import date_format\n",
    "\n",
    "from pyspark.ml import Pipeline\n",
    "from pyspark.ml.classification import LogisticRegression,DecisionTreeClassifier,RandomForestClassifier,GBTClassifier\n",
    "from pyspark.ml.evaluation import MulticlassClassificationEvaluator\n",
    "from pyspark.ml.feature import VectorAssembler, StandardScaler, Normalizer\n",
    "from pyspark.ml.tuning import CrossValidator, ParamGridBuilder\n",
    "from pyspark.mllib.evaluation import MulticlassMetrics\n",
    "from pyspark.mllib.linalg import SparseVector, DenseVector\n",
    "\n",
    "import matplotlib.pyplot as plt\n",
    "%matplotlib inline\n",
    "import pandas as pd\n",
    "import seaborn as sns\n",
    "import numpy as np\n",
    "import time\n",
    "from IPython.display import display"
   ]
  },
  {
   "cell_type": "code",
   "execution_count": 2,
   "metadata": {},
   "outputs": [],
   "source": [
    "# create a Spark session\n",
    "spark = SparkSession.builder \\\n",
    "    .master(\"local\") \\\n",
    "    .appName(\"Sparkify Project\") \\\n",
    "    .getOrCreate()"
   ]
  },
  {
   "cell_type": "markdown",
   "metadata": {},
   "source": [
    "# Load and Clean Dataset\n",
    "In this workspace, the mini-dataset file is `mini_sparkify_event_data.json`. Load and clean the dataset, checking for invalid or missing data - for example, records without userids or sessionids. "
   ]
  },
  {
   "cell_type": "code",
   "execution_count": 3,
   "metadata": {},
   "outputs": [],
   "source": [
    "# loading Dataset\n",
    "sparkify_data = 'mini_sparkify_event_data.json'\n",
    "df = spark.read.json(sparkify_data)"
   ]
  },
  {
   "cell_type": "code",
   "execution_count": 4,
   "metadata": {},
   "outputs": [
    {
     "name": "stdout",
     "output_type": "stream",
     "text": [
      "root\n",
      " |-- artist: string (nullable = true)\n",
      " |-- auth: string (nullable = true)\n",
      " |-- firstName: string (nullable = true)\n",
      " |-- gender: string (nullable = true)\n",
      " |-- itemInSession: long (nullable = true)\n",
      " |-- lastName: string (nullable = true)\n",
      " |-- length: double (nullable = true)\n",
      " |-- level: string (nullable = true)\n",
      " |-- location: string (nullable = true)\n",
      " |-- method: string (nullable = true)\n",
      " |-- page: string (nullable = true)\n",
      " |-- registration: long (nullable = true)\n",
      " |-- sessionId: long (nullable = true)\n",
      " |-- song: string (nullable = true)\n",
      " |-- status: long (nullable = true)\n",
      " |-- ts: long (nullable = true)\n",
      " |-- userAgent: string (nullable = true)\n",
      " |-- userId: string (nullable = true)\n",
      "\n"
     ]
    }
   ],
   "source": [
    "df.printSchema()"
   ]
  },
  {
   "cell_type": "code",
   "execution_count": 5,
   "metadata": {},
   "outputs": [
    {
     "data": {
      "text/plain": [
       "Row(artist='Martha Tilston', auth='Logged In', firstName='Colin', gender='M', itemInSession=50, lastName='Freeman', length=277.89016, level='paid', location='Bakersfield, CA', method='PUT', page='NextSong', registration=1538173362000, sessionId=29, song='Rockpools', status=200, ts=1538352117000, userAgent='Mozilla/5.0 (Windows NT 6.1; WOW64; rv:31.0) Gecko/20100101 Firefox/31.0', userId='30')"
      ]
     },
     "execution_count": 5,
     "metadata": {},
     "output_type": "execute_result"
    }
   ],
   "source": [
    "#Observe first row\n",
    "df.head()"
   ]
  },
  {
   "cell_type": "code",
   "execution_count": 6,
   "metadata": {},
   "outputs": [
    {
     "name": "stdout",
     "output_type": "stream",
     "text": [
      "+------+----+---------+------+-------------+--------+------+-----+--------+------+----+------------+---------+----+------+---+---------+------+\n",
      "|artist|auth|firstName|gender|itemInSession|lastName|length|level|location|method|page|registration|sessionId|song|status| ts|userAgent|userId|\n",
      "+------+----+---------+------+-------------+--------+------+-----+--------+------+----+------------+---------+----+------+---+---------+------+\n",
      "|     0|   0|        0|     0|            0|       0|     0|    0|       0|     0|   0|           0|        0|   0|     0|  0|        0|     0|\n",
      "+------+----+---------+------+-------------+--------+------+-----+--------+------+----+------------+---------+----+------+---+---------+------+\n",
      "\n"
     ]
    }
   ],
   "source": [
    "# count the number of nan values in each column\n",
    "df.select([count(when(isnan(c), c)).alias(c) for c in df.columns]).show()"
   ]
  },
  {
   "cell_type": "code",
   "execution_count": 7,
   "metadata": {},
   "outputs": [
    {
     "name": "stdout",
     "output_type": "stream",
     "text": [
      "+------+----+---------+------+-------------+--------+------+-----+--------+------+----+------------+---------+-----+------+---+---------+------+\n",
      "|artist|auth|firstName|gender|itemInSession|lastName|length|level|location|method|page|registration|sessionId| song|status| ts|userAgent|userId|\n",
      "+------+----+---------+------+-------------+--------+------+-----+--------+------+----+------------+---------+-----+------+---+---------+------+\n",
      "| 58392|   0|     8346|  8346|            0|    8346| 58392|    0|    8346|     0|   0|        8346|        0|58392|     0|  0|     8346|     0|\n",
      "+------+----+---------+------+-------------+--------+------+-----+--------+------+----+------------+---------+-----+------+---+---------+------+\n",
      "\n"
     ]
    }
   ],
   "source": [
    "# count the number of null values in each column\n",
    "df.select([count(when(isnan(c) | col(c).isNull(), c)).alias(c) for c in df.columns]).show()"
   ]
  },
  {
   "cell_type": "code",
   "execution_count": 8,
   "metadata": {},
   "outputs": [
    {
     "name": "stdout",
     "output_type": "stream",
     "text": [
      "8346\n",
      "0\n"
     ]
    }
   ],
   "source": [
    "# Check the number of empty values in two columns: \"userId\" and \"sessionId\"\n",
    "print(df.filter(df.userId == \"\").count())\n",
    "print(df.filter(df.sessionId == \"\").count())"
   ]
  },
  {
   "cell_type": "code",
   "execution_count": 9,
   "metadata": {},
   "outputs": [
    {
     "data": {
      "text/plain": [
       "278154"
      ]
     },
     "execution_count": 9,
     "metadata": {},
     "output_type": "execute_result"
    }
   ],
   "source": [
    "# It seems there are no sessionID missing, so we can only drop the rows with empty values in \"userID\"\n",
    "df = df.select(\"*\").where((df.userId != \"\"))\n",
    "df.count()"
   ]
  },
  {
   "cell_type": "code",
   "execution_count": 10,
   "metadata": {},
   "outputs": [
    {
     "name": "stdout",
     "output_type": "stream",
     "text": [
      "+--------------------+\n",
      "|                page|\n",
      "+--------------------+\n",
      "|               About|\n",
      "|          Add Friend|\n",
      "|     Add to Playlist|\n",
      "|              Cancel|\n",
      "|Cancellation Conf...|\n",
      "|           Downgrade|\n",
      "|               Error|\n",
      "|                Help|\n",
      "|                Home|\n",
      "|              Logout|\n",
      "|            NextSong|\n",
      "|         Roll Advert|\n",
      "|       Save Settings|\n",
      "|            Settings|\n",
      "|    Submit Downgrade|\n",
      "|      Submit Upgrade|\n",
      "|         Thumbs Down|\n",
      "|           Thumbs Up|\n",
      "|             Upgrade|\n",
      "+--------------------+\n",
      "\n"
     ]
    }
   ],
   "source": [
    "# Check the different options for \"page\" column:\n",
    "df.select(\"page\").dropDuplicates().sort(\"page\").show()"
   ]
  },
  {
   "cell_type": "code",
   "execution_count": 11,
   "metadata": {},
   "outputs": [],
   "source": [
    "# Change the time format of ts and registration in the dataframe\n",
    "change_time_format = udf(lambda x: datetime.datetime.fromtimestamp(x / 1000.0).strftime(\"%Y-%m-%d %H:%M:%S\"))\n",
    "df = df.withColumn(\"tsDateColumn\", change_time_format(df.ts))\n",
    "df = df.withColumn(\"registrationDateColumn\", change_time_format(df.registration))"
   ]
  },
  {
   "cell_type": "markdown",
   "metadata": {},
   "source": [
    "# Exploratory Data Analysis\n",
    "When you're working with the full dataset, perform EDA by loading a small subset of the data and doing basic manipulations within Spark. In this workspace, you are already provided a small subset of data you can explore.\n",
    "\n",
    "### Define Churn\n",
    "\n",
    "Once you've done some preliminary analysis, create a column `Churn` to use as the label for your model. I suggest using the `Cancellation Confirmation` events to define your churn, which happen for both paid and free users. As a bonus task, you can also look into the `Downgrade` events.\n",
    "\n",
    "### Explore Data\n",
    "Once you've defined churn, perform some exploratory data analysis to observe the behavior for users who stayed vs users who churned. You can start by exploring aggregates on these two groups of users, observing how much of a specific action they experienced per a certain time unit or number of songs played."
   ]
  },
  {
   "cell_type": "markdown",
   "metadata": {},
   "source": [
    "## Churn \n",
    "Churn can be defined as a metric that indicates how much a company lost in terms of revenue or clients. Detecting churn before it happens is an important task in order to implement countermeasures to avoid it, like giving additional offers to these customers. So, we must have a precise model for detecting it.\n",
    "In that regard, we will create a column called \"Churn\", that will be defined according to the cancellation/confirmation event, which happens for both paid and free user. "
   ]
  },
  {
   "cell_type": "code",
   "execution_count": 12,
   "metadata": {},
   "outputs": [
    {
     "data": {
      "text/plain": [
       "225"
      ]
     },
     "execution_count": 12,
     "metadata": {},
     "output_type": "execute_result"
    }
   ],
   "source": [
    "#Number of users in the dataset\n",
    "df.select(\"userID\").dropDuplicates().count()"
   ]
  },
  {
   "cell_type": "code",
   "execution_count": 13,
   "metadata": {},
   "outputs": [
    {
     "data": {
      "text/plain": [
       "52"
      ]
     },
     "execution_count": 13,
     "metadata": {},
     "output_type": "execute_result"
    }
   ],
   "source": [
    "#Number of user who confirmed cancellation in the dataset\n",
    "df.select(\"userID\").where(df.page == \"Cancellation Confirmation\").dropDuplicates().count()"
   ]
  },
  {
   "cell_type": "code",
   "execution_count": 14,
   "metadata": {},
   "outputs": [
    {
     "data": {
      "text/plain": [
       "154"
      ]
     },
     "execution_count": 14,
     "metadata": {},
     "output_type": "execute_result"
    }
   ],
   "source": [
    "#Number of users who downgraded\n",
    "df.select(\"userID\").where(df.page == \"Downgrade\").dropDuplicates().count()"
   ]
  },
  {
   "cell_type": "markdown",
   "metadata": {},
   "source": [
    "Almost 70% of the costumers submitted Downgrade, so we will not consider it as a delimiter for churn. Let's focus only on the \"Cancellation confirmation\" event."
   ]
  },
  {
   "cell_type": "code",
   "execution_count": 15,
   "metadata": {},
   "outputs": [],
   "source": [
    "# Flag all the users who churned, based on the \"Cancellation confirmation\" event\n",
    "churn_find = udf(lambda x: 1 if x == \"Cancellation Confirmation\" else 0, IntegerType())\n",
    "df = df.withColumn(\"churn\", churn_find(\"page\"))\n",
    "\n",
    "# Flag all the rows for the customers who churned.\n",
    "churn_window = Window.partitionBy(\"userId\").orderBy(desc(\"ts\")).rangeBetween(Window.unboundedPreceding, 0)\n",
    "df = df.withColumn(\"churn\", max(\"churn\").over(churn_window))"
   ]
  },
  {
   "cell_type": "code",
   "execution_count": 16,
   "metadata": {},
   "outputs": [
    {
     "name": "stdout",
     "output_type": "stream",
     "text": [
      "+------+---------+---------+------+-------------+--------+------+-----+--------------------+------+--------------------+-------------+---------+----+------+-------------+--------------------+------+-------------------+----------------------+-----+\n",
      "|artist|     auth|firstName|gender|itemInSession|lastName|length|level|            location|method|                page| registration|sessionId|song|status|           ts|           userAgent|userId|       tsDateColumn|registrationDateColumn|churn|\n",
      "+------+---------+---------+------+-------------+--------+------+-----+--------------------+------+--------------------+-------------+---------+----+------+-------------+--------------------+------+-------------------+----------------------+-----+\n",
      "|  null|Cancelled|  Delaney|     F|           23|   Perez|  null| free|Miami-Fort Lauder...|   GET|Cancellation Conf...|1534627466000|       53|null|   200|1538498205000|\"Mozilla/5.0 (Mac...|100001|2018-10-02 13:36:45|   2018-08-18 18:24:26|    1|\n",
      "|  null|Logged In|  Delaney|     F|           22|   Perez|  null| free|Miami-Fort Lauder...|   PUT|              Cancel|1534627466000|       53|null|   307|1538498074000|\"Mozilla/5.0 (Mac...|100001|2018-10-02 13:34:34|   2018-08-18 18:24:26|    1|\n",
      "|  null|Logged In|  Delaney|     F|           21|   Perez|  null| free|Miami-Fort Lauder...|   GET|         Roll Advert|1534627466000|       53|null|   200|1538498073000|\"Mozilla/5.0 (Mac...|100001|2018-10-02 13:34:33|   2018-08-18 18:24:26|    1|\n",
      "+------+---------+---------+------+-------------+--------+------+-----+--------------------+------+--------------------+-------------+---------+----+------+-------------+--------------------+------+-------------------+----------------------+-----+\n",
      "only showing top 3 rows\n",
      "\n"
     ]
    }
   ],
   "source": [
    "# checks users who churned\n",
    "df.select('*').where(df.churn == 1).show(n=3)"
   ]
  },
  {
   "cell_type": "markdown",
   "metadata": {},
   "source": [
    "## Exploratory Data Analysis "
   ]
  },
  {
   "cell_type": "markdown",
   "metadata": {},
   "source": [
    "### Level of Subscription\n",
    "\n"
   ]
  },
  {
   "cell_type": "code",
   "execution_count": 17,
   "metadata": {},
   "outputs": [],
   "source": [
    "def plot_ratio(subset, group, df = df):\n",
    "    '''Plots ratio of users who churned grouped by columns\n",
    "    Args: \n",
    "         subset: string of column to drop duplicates\n",
    "         group: string of column to group by\n",
    "         df = dataframe with data\n",
    "    '''\n",
    "    churn_ratio = df.drop_duplicates([subset]).groupby([group]).agg((sum(\"churn\")/count('userId')).alias('ratio'))\n",
    "    churn_ratio.show()\n",
    "    churn_ratio = churn_ratio.toPandas().sort_values(by = \"ratio\")\n",
    "    # plots proportion\n",
    "    ax = churn_ratio.plot(kind='bar', figsize=(8,5), title=('Ratio of users who churned per {0}').format(group))\n",
    "    ax.set_ylabel(\"Ratio\")\n",
    "    ax.set_xlabel(group)"
   ]
  },
  {
   "cell_type": "code",
   "execution_count": 18,
   "metadata": {},
   "outputs": [
    {
     "name": "stdout",
     "output_type": "stream",
     "text": [
      "+-----+-------------------+\n",
      "|level|              ratio|\n",
      "+-----+-------------------+\n",
      "| free|             0.2625|\n",
      "| paid|0.21379310344827587|\n",
      "+-----+-------------------+\n",
      "\n"
     ]
    },
    {
     "data": {
      "image/png": "[encoded data removed]",
      "text/plain": [
       "<Figure size 576x360 with 1 Axes>"
      ]
     },
     "metadata": {
      "needs_background": "light"
     },
     "output_type": "display_data"
    }
   ],
   "source": [
    "# finds the rate of churn in both levels of subscription (free or paid)\n",
    "plot_ratio('userId', 'level')"
   ]
  },
  {
   "cell_type": "markdown",
   "metadata": {},
   "source": [
    "### Gender"
   ]
  },
  {
   "cell_type": "code",
   "execution_count": 19,
   "metadata": {},
   "outputs": [
    {
     "name": "stdout",
     "output_type": "stream",
     "text": [
      "+------+-------------------+\n",
      "|gender|              ratio|\n",
      "+------+-------------------+\n",
      "|     F|0.19230769230769232|\n",
      "|     M| 0.2644628099173554|\n",
      "+------+-------------------+\n",
      "\n"
     ]
    },
    {
     "data": {
      "image/png": "[encoded data removed]",
      "text/plain": [
       "<Figure size 576x360 with 1 Axes>"
      ]
     },
     "metadata": {
      "needs_background": "light"
     },
     "output_type": "display_data"
    }
   ],
   "source": [
    "# finds the ratio of users who churned in both genders (male or female)\n",
    "plot_ratio('userId', 'gender')"
   ]
  },
  {
   "cell_type": "markdown",
   "metadata": {},
   "source": [
    "### Average number of songs played"
   ]
  },
  {
   "cell_type": "code",
   "execution_count": 20,
   "metadata": {},
   "outputs": [
    {
     "name": "stdout",
     "output_type": "stream",
     "text": [
      "+-----+------------------------------+\n",
      "|churn|(count(churn) / count(userId))|\n",
      "+-----+------------------------------+\n",
      "|    1|             699.8846153846154|\n",
      "|    0|            1108.1734104046243|\n",
      "+-----+------------------------------+\n",
      "\n"
     ]
    },
    {
     "data": {
      "image/png": "[encoded data removed]",
      "text/plain": [
       "<Figure size 432x288 with 1 Axes>"
      ]
     },
     "metadata": {
      "needs_background": "light"
     },
     "output_type": "display_data"
    }
   ],
   "source": [
    "avg_songs_played = df.select(\"*\").where(df.page == \"NextSong\").groupby(\"churn\").agg(count(\"churn\")/countDistinct(\"userId\"))\n",
    "avg_songs_played.show()\n",
    "avg_songs_played = avg_songs_played.toPandas()\n",
    "avg_songs_played.plot.bar(x='churn', y='(count(churn) / count(userId))', rot=0, legend= None)\n",
    "plt.title('Average Songs Played');\n",
    "plt.show()"
   ]
  },
  {
   "cell_type": "markdown",
   "metadata": {},
   "source": [
    "### Page"
   ]
  },
  {
   "cell_type": "code",
   "execution_count": 21,
   "metadata": {},
   "outputs": [
    {
     "data": {
      "image/png": "[encoded data removed]",
      "text/plain": [
       "<Figure size 576x720 with 1 Axes>"
      ]
     },
     "metadata": {
      "needs_background": "light"
     },
     "output_type": "display_data"
    }
   ],
   "source": [
    "#find percentage in page ocurrence in cancelled and active groups\n",
    "dfp = df.toPandas()\n",
    "users_1 = dfp[dfp.churn == 1].groupby(['page'])['userId'].count().drop('NextSong')\n",
    "users_1 = users_1 /users_1.sum()*100\n",
    "\n",
    "users_0 = dfp[dfp.churn == 0].groupby(['page'])['userId'].count().drop('NextSong')\n",
    "users_0 = users_0 /users_0.sum()*100\n",
    "\n",
    "users_df = pd.DataFrame({'Cancelled': users_1,'Active users':users_0})\n",
    "ax = users_df.plot(kind='barh', figsize=(8,10));\n",
    "ax.set_xlabel('Percent of envent occurence (%)')\n",
    "ax.set_title('Percent of envent occurence for active and cancelled users');"
   ]
  },
  {
   "cell_type": "markdown",
   "metadata": {},
   "source": [
    "From the chart above, it seems that users who churned experienced a higher degree of exposure to Roll Advert and were more susceptible to rate a music negativelly. "
   ]
  },
  {
   "cell_type": "markdown",
   "metadata": {},
   "source": [
    "# Feature Engineering\n",
    "Once you've familiarized yourself with the data, build out the features you find promising to train your model on. To work with the full dataset, you can follow the following steps.\n",
    "- Write a script to extract the necessary features from the smaller subset of data\n",
    "- Ensure that your script is scalable, using the best practices discussed in Lesson 3\n",
    "- Try your script on the full data set, debugging your script if necessary\n",
    "\n",
    "If you are working in the classroom workspace, you can just extract features based on the small subset of data contained here. Be sure to transfer over this work to the larger dataset when you work on your Spark cluster."
   ]
  },
  {
   "cell_type": "code",
   "execution_count": 22,
   "metadata": {},
   "outputs": [],
   "source": [
    "def feature_engineering(filepath):\n",
    "    '''\n",
    "    Creates necessary features to train machine learning algorithms.\n",
    "    First loads data set from file\n",
    "    \n",
    "    Resulting DF Structure:\n",
    "    \n",
    "    root\n",
    "     |-- userId: string\n",
    "     |-- downgraded: long\n",
    "     |-- visited_downgrade: long\n",
    "     |-- visited_cancel: long\n",
    "     |-- paid: long\n",
    "     |-- male: long\n",
    "     |-- numSongs: int\n",
    "     |-- avgThumbsUp: double\n",
    "     |-- avgThumbsDown: double\n",
    "     |-- numFriends: long\n",
    "     |-- avgError: double\n",
    "     |-- NumSession: double\n",
    "     |-- avgAdvert : double\n",
    "     |-- churn: long\n",
    "     \n",
    "    \n",
    "    Args:\n",
    "        filepath: path to json dataset on file\n",
    "    Out:\n",
    "        data: engineered dataset\n",
    "    '''\n",
    "    \n",
    "    #dataframe with raw data \n",
    "    df = spark.read.json(filepath)\n",
    "    \n",
    "    #user defined functions\n",
    "    churn = udf(lambda x: int(x==\"Cancellation Confirmation\"), IntegerType())\n",
    "    downgrade = udf(lambda x: int(x==\"Submit Downgrade\"), IntegerType())\n",
    "    visited_downgrade = udf(lambda x: int(x=='Downgrade'), IntegerType())\n",
    "    visited_cancel = udf(lambda x: int(x=='Cancel'), IntegerType())\n",
    "    days = lambda i: i * 86400 \n",
    "    get_day = udf(lambda x: datetime.datetime.fromtimestamp(x/1000), DateType())\n",
    "    paid = udf(lambda x: int(x=='paid'), IntegerType())\n",
    "    male = udf(lambda x: int(x=='M'), IntegerType())\n",
    "    \n",
    "    #define windows\n",
    "    windowval = Window.partitionBy(\"userId\").orderBy(desc(\"ts\")).rangeBetween(Window.unboundedPreceding, 0)\n",
    "    \n",
    "    #select distinct users in which we will merge our results\n",
    "    users_df = df.where((df.userId != \"\") | (df.sessionId != \"\"))\\\n",
    "        .select('userId').dropDuplicates()\n",
    "    \n",
    "    #downgraded: 0 or 1\n",
    "    downgraded_df = df.select('userId', 'page','ts').withColumn(\"downgraded\", downgrade(\"page\"))\n",
    "    downgraded_df = downgraded_df.withColumn(\"downgraded\", max(\"downgraded\").over(windowval))\\\n",
    "        .select('userId','downgraded').dropDuplicates(['userId']).drop('page', 'ts')\n",
    "    \n",
    "    #visited downgrade\n",
    "    visit_down_df = df.select('userId', 'page','ts').withColumn(\"visited_downgrade\", visited_downgrade(\"page\"))\n",
    "    visit_down_df = visit_down_df.withColumn(\"visited_downgrade\", max(\"visited_downgrade\").over(windowval))\\\n",
    "        .select('userId','visited_downgrade').dropDuplicates(['userId']).drop('page', 'ts')\n",
    "    \n",
    "    #visited cancel: 0 or 1\n",
    "    visit_cancel_df = df.select('userId', 'page','ts').withColumn(\"visited_cancel\", visited_cancel(\"page\"))\n",
    "    visit_cancel_df = visit_cancel_df.withColumn(\"visited_cancel\", max(\"visited_cancel\").over(windowval))\\\n",
    "        .select('userId','visited_cancel').dropDuplicates(['userId']).drop('page', 'ts')\n",
    "    \n",
    "    #paid : 0 or 1\n",
    "    paid_df = df.select('userID', 'level')\\\n",
    "      .dropDuplicates(['userId']).withColumn('paid', paid(\"level\")).drop('level')\n",
    "    \n",
    "    #male : 0 or 1\n",
    "    male_df = df.select('userID', 'gender')\\\n",
    "        .dropDuplicates(['userId']).withColumn('Male', male(\"gender\")).drop('gender')\n",
    "    \n",
    "    #number of songs played: int\n",
    "    songs_df = df.filter(df.page=='NextSong')\\\n",
    "        .select('userId', 'page')\\\n",
    "        .groupBy('userId').count().withColumnRenamed('count', 'numSongs').drop('page')\n",
    "    \n",
    "    #average thumbs up: float\n",
    "    avgThumbsUp = df.filter(df.page=='Thumbs Up')\\\n",
    "        .select('userId', 'page', 'ts')\\\n",
    "        .withColumn('date', get_day(col('ts')))\\\n",
    "        .groupBy('userId', 'date').agg({'page':'count'}).groupBy('userId')\\\n",
    "        .mean().withColumnRenamed('avg(count(page))', 'avgThumbsUp').drop('page', 'date', 'ts')\n",
    "    \n",
    "    #average thumbs down\n",
    "    avgThumbsDown = df.filter(df.page=='Thumbs Down')\\\n",
    "        .select('userId', 'page', 'ts')\\\n",
    "        .withColumn('date', get_day(col('ts')))\\\n",
    "        .groupBy('userId', 'date').agg({'page':'count'})\\\n",
    "        .groupBy('userId').mean()\\\n",
    "        .withColumnRenamed('avg(count(page))', 'avgThumbsDown').drop('page', 'date', 'ts')\n",
    "    \n",
    "    #number of friends\n",
    "    numFriends = df.filter(df.page=='Add Friend')\\\n",
    "        .select('userId', 'page')\\\n",
    "        .groupBy('userId').count().withColumnRenamed('count', 'numFriends').drop('page')\n",
    "    \n",
    "    # daily errors\n",
    "    errors_df = df.filter(df.page=='Error')\\\n",
    "        .select('userId', 'page', 'ts')\\\n",
    "        .withColumn('date', get_day(col('ts')))\\\n",
    "        .groupBy('userId', 'date').agg({'page':'count'}).groupBy('userId')\\\n",
    "        .mean().withColumnRenamed('avg(count(page))', 'avgError').drop('page', 'date', 'ts')\n",
    "    \n",
    "    #daily roll advert \n",
    "    advert_df = df.filter(df.page=='Roll Advert')\\\n",
    "        .select('userId', 'page', 'ts')\\\n",
    "        .withColumn('date', get_day(col('ts')))\\\n",
    "        .groupBy('userId', 'date').agg({'page':'count'}).groupBy('userId')\\\n",
    "        .mean().withColumnRenamed('avg(count(page))', 'avgAdvert').drop('page', 'date', 'ts')\n",
    "    \n",
    "    #number of sessions\n",
    "    num_sessions_df = df.select('userId', 'sessionId')\\\n",
    "        .dropDuplicates().groupby('userId')\\\n",
    "        .count().withColumnRenamed('count', 'numSession').drop('sessionId')\n",
    "    \n",
    "    #churn\n",
    "    label_df = df.select('userId', 'page','ts').withColumn(\"label\", churn(\"page\"))\n",
    "    label_df = label_df.withColumn(\"label\", max(\"label\").over(windowval))\\\n",
    "        .select('userId','label').dropDuplicates(['userId']).drop('page', 'ts')\n",
    "    \n",
    "    #joining all\n",
    "    data = users_df.join(downgraded_df,'userId')\\\n",
    "    .join(visit_down_df,'userId')\\\n",
    "    .join(visit_cancel_df, 'userId')\\\n",
    "    .join(paid_df, 'userId')\\\n",
    "    .join(male_df, 'userId')\\\n",
    "    .join(songs_df, 'userId')\\\n",
    "    .join(avgThumbsUp, 'userId')\\\n",
    "    .join(avgThumbsDown, 'userId')\\\n",
    "    .join(numFriends, 'userId')\\\n",
    "    .join(errors_df, 'userId')\\\n",
    "    .join(advert_df, 'userId')\\\n",
    "    .join(num_sessions_df, 'userId')\\\n",
    "    .join(label_df, 'userId')\n",
    "\n",
    "    \n",
    "    return data    "
   ]
  },
  {
   "cell_type": "code",
   "execution_count": 23,
   "metadata": {},
   "outputs": [],
   "source": [
    "new_features = feature_engineering(\"mini_sparkify_event_data.json\")"
   ]
  },
  {
   "cell_type": "code",
   "execution_count": 24,
   "metadata": {},
   "outputs": [
    {
     "name": "stdout",
     "output_type": "stream",
     "text": [
      "+------+----------+-----------------+--------------+----+----+--------+------------------+------------------+----------+--------+------------------+----------+-----+\n",
      "|userId|downgraded|visited_downgrade|visited_cancel|paid|Male|numSongs|       avgThumbsUp|     avgThumbsDown|numFriends|avgError|         avgAdvert|numSession|label|\n",
      "+------+----------+-----------------+--------------+----+----+--------+------------------+------------------+----------+--------+------------------+----------+-----+\n",
      "|   100|         0|                0|             0|   1|   1|    2682| 4.933333333333334|              2.25|        49|     1.0|3.5714285714285716|        35|    0|\n",
      "|100001|         0|                0|             0|   0|   0|     133|               4.0|               1.0|         2|     1.0|               7.0|         4|    1|\n",
      "|100004|         0|                0|             0|   0|   0|     942|2.9166666666666665|1.8333333333333333|        19|     1.0| 5.733333333333333|        21|    0|\n",
      "|100013|         0|                0|             0|   0|   0|    1131|               3.0| 2.142857142857143|        28|     1.0|             4.875|        14|    1|\n",
      "|100015|         0|                0|             0|   0|   0|     800|2.9166666666666665|1.3333333333333333|        14|     1.0|6.2727272727272725|        12|    1|\n",
      "|100016|         0|                0|             0|   1|   1|     530|2.7777777777777777|               1.0|        13|     1.0|               3.2|         8|    0|\n",
      "|100021|         0|                0|             0|   0|   1|     230|              2.75|1.6666666666666667|         7|     1.0|               5.0|         5|    1|\n",
      "|100022|         0|                0|             0|   0|   0|     681|            2.8125|1.8181818181818181|        11|     1.0| 6.388888888888889|        20|    1|\n",
      "|100025|         0|                0|             0|   1|   0|     490|3.3333333333333335|2.3333333333333335|         3|     1.0|              15.0|         7|    1|\n",
      "|   101|         0|                0|             0|   0|   1|    1797| 6.615384615384615|2.2857142857142856|        29|     1.5|2.6666666666666665|        10|    1|\n",
      "|   104|         0|                0|             0|   0|   0|    1781|3.8181818181818183|1.5454545454545454|        23|     1.0|               2.3|        26|    0|\n",
      "|   105|         0|                0|             0|   0|   1|     764|               9.0|               2.0|        13|     1.0|               1.0|         5|    1|\n",
      "|    11|         0|                0|             0|   0|   0|     647| 3.076923076923077|1.2857142857142858|         6|     1.0|              3.25|        16|    0|\n",
      "|   111|         0|                0|             0|   0|   0|     698|               6.8|               2.0|        23|     1.0|               1.5|         7|    0|\n",
      "|   113|         0|                0|             0|   0|   0|    1585|3.5652173913043477|               1.2|        32|     1.0|               1.0|        24|    0|\n",
      "|   114|         0|                0|             0|   0|   1|    1292| 5.285714285714286|               1.5|        13|     1.0|              2.25|        17|    0|\n",
      "|   115|         0|                0|             0|   0|   0|    1737| 6.133333333333334|               2.4|        39|     1.0|              2.75|        10|    0|\n",
      "|   117|         0|                0|             0|   0|   0|     343|               2.2|               1.0|        10|     2.0| 3.142857142857143|        13|    0|\n",
      "|   118|         0|                0|             0|   0|   0|    2376| 5.291666666666667| 2.076923076923077|        52|     1.0| 4.333333333333333|        24|    0|\n",
      "|   119|         0|                0|             0|   0|   0|     173|              1.75|               1.0|         4|     1.0|              2.25|         6|    0|\n",
      "+------+----------+-----------------+--------------+----+----+--------+------------------+------------------+----------+--------+------------------+----------+-----+\n",
      "only showing top 20 rows\n",
      "\n"
     ]
    }
   ],
   "source": [
    "new_features.show()"
   ]
  },
  {
   "cell_type": "markdown",
   "metadata": {},
   "source": [
    "# Modeling\n",
    "Split the full dataset into train, test, and validation sets. Test out several of the machine learning methods you learned. Evaluate the accuracy of the various models, tuning parameters as necessary. Determine your winning model based on test accuracy and report results on the validation set. Since the churned users are a fairly small subset, I suggest using F1 score as the metric to optimize."
   ]
  },
  {
   "cell_type": "markdown",
   "metadata": {},
   "source": [
    "### Transform into Vector and Normalize"
   ]
  },
  {
   "cell_type": "code",
   "execution_count": 25,
   "metadata": {},
   "outputs": [],
   "source": [
    "#create VectorAssembler to push data to ML models\n",
    "features_cols = [\"downgraded\",\"visited_downgrade\",\"visited_cancel\",\"paid\",\\\n",
    "                 \"Male\",\"numSongs\",\"avgThumbsUp\",\"avgThumbsDown\",\"numFriends\",\"avgError\",\\\n",
    "                 \"numSession\", \"avgAdvert\"]\n",
    "assembler = VectorAssembler(inputCols=features_cols, outputCol=\"inputFeatures\")\n",
    "\n",
    "#Normalize Data\n",
    "scaler = Normalizer(inputCol=\"inputFeatures\", outputCol=\"ScaledFeatures\")"
   ]
  },
  {
   "cell_type": "code",
   "execution_count": 26,
   "metadata": {},
   "outputs": [],
   "source": [
    "#create classifiers objects\n",
    "clf_LR = LogisticRegression(featuresCol=\"ScaledFeatures\", labelCol=\"label\", maxIter = 10)\n",
    "clf_RF = RandomForestClassifier(featuresCol=\"ScaledFeatures\", labelCol=\"label\")\n",
    "clf_DT = DecisionTreeClassifier(featuresCol=\"ScaledFeatures\", labelCol=\"label\")\n",
    "clf_GBT = GBTClassifier(featuresCol=\"ScaledFeatures\", labelCol=\"label\")"
   ]
  },
  {
   "cell_type": "code",
   "execution_count": 27,
   "metadata": {},
   "outputs": [],
   "source": [
    "#Create Pipeline with transformers and estimators\n",
    "pipeline_lr = Pipeline(stages=[assembler, scaler, clf_LR])\n",
    "pipeline_rf = Pipeline(stages=[assembler, scaler, clf_RF])\n",
    "pipeline_dt = Pipeline(stages=[assembler, scaler, clf_DT])\n",
    "pipeline_gbt = Pipeline(stages=[assembler, scaler, clf_GBT])"
   ]
  },
  {
   "cell_type": "markdown",
   "metadata": {},
   "source": [
    "### Split full dataset into train/test sets"
   ]
  },
  {
   "cell_type": "code",
   "execution_count": 28,
   "metadata": {},
   "outputs": [],
   "source": [
    "train, test = new_features.randomSplit([0.7, 0.3], seed=7)"
   ]
  },
  {
   "cell_type": "markdown",
   "metadata": {},
   "source": [
    "### Train ML models"
   ]
  },
  {
   "cell_type": "markdown",
   "metadata": {},
   "source": [
    "We chose four Machine Learning Models: Logistic Regression, Random Forest, Decision Tree and GBT."
   ]
  },
  {
   "cell_type": "code",
   "execution_count": 29,
   "metadata": {},
   "outputs": [
    {
     "name": "stdout",
     "output_type": "stream",
     "text": [
      "Execution time to train the Logistic Regression Model:134.69775891304016\n",
      "Execution time to train the Random Forest Model:195.45136499404907\n",
      "Execution time to train the Decision Tree Model:117.21096515655518\n",
      "Execution time to train the GBT Model:98.20724296569824\n",
      "Total execution time:545.5678818225861\n"
     ]
    }
   ],
   "source": [
    "#Fit train data to models and print execution time\n",
    "\n",
    "start_time= time.time()\n",
    "\n",
    "model_lr_fitted = pipeline_lr.fit(train)\n",
    "lr_time = time.time()\n",
    "print(\"Execution time to train the Logistic Regression Model:{}\".format(lr_time-start_time))\n",
    "model_rf_fitted = pipeline_rf.fit(train)\n",
    "rf_time = time.time()\n",
    "print(\"Execution time to train the Random Forest Model:{}\".format(rf_time-lr_time))\n",
    "model_dt_fitted = pipeline_dt.fit(train)\n",
    "dt_time = time.time()\n",
    "print(\"Execution time to train the Decision Tree Model:{}\".format(dt_time-rf_time))\n",
    "model_gbt_fitted = pipeline_gbt.fit(train)\n",
    "gbt_time = time.time()\n",
    "print(\"Execution time to train the GBT Model:{}\".format(gbt_time-dt_time))\n",
    "end_time= time.time()\n",
    "\n",
    "print(\"Total execution time:{}\".format(end_time-start_time))"
   ]
  },
  {
   "cell_type": "markdown",
   "metadata": {},
   "source": [
    "### Calculate Metrics"
   ]
  },
  {
   "cell_type": "markdown",
   "metadata": {},
   "source": [
    "Since we only have 22% of users who churned(imbalanced dataset), it's advised to use F1-score to measure the performance of the models. Otherwise, like shown below, if we consider accuracy as the main metric to evaluate them, we could still predict all samples as 0 and still have a high degree of success."
   ]
  },
  {
   "cell_type": "code",
   "execution_count": 30,
   "metadata": {},
   "outputs": [],
   "source": [
    "def evaluate_model(model,model_name,train,test):\n",
    "    '''\n",
    "    This function will evaluate fitted model\n",
    "    \n",
    "    Input:\n",
    "    model: fitted model after applying first function\n",
    "    train: train data for evaluation \n",
    "    test: test data for real validation\n",
    "    \n",
    "    Output: a dataframe to show result metrics\n",
    "    f1train: F1 Score for train data\n",
    "    f1test: F1 Score for test data\n",
    "    accuracy_train: Accuracy Score for train data\n",
    "    accuracy_test: Accuracy Score for test data\n",
    "    \n",
    "    '''\n",
    "    \n",
    "    pred = model.transform(train)\n",
    "    evaluator_f1 = MulticlassClassificationEvaluator(metricName = 'f1')\n",
    "    evaluator_acc = MulticlassClassificationEvaluator(metricName = 'accuracy')\n",
    "    f1_train = evaluator_f1.evaluate(pred)\n",
    "    accuracy_train = evaluator_acc.evaluate(pred)\n",
    "    \n",
    "    pred = model.transform(test)\n",
    "    f1_test = evaluator_f1.evaluate(pred)\n",
    "    accuracy_test = evaluator_acc.evaluate(pred)\n",
    "    \n",
    "    df = pd.DataFrame(data = {\n",
    "               'Model': [model_name],\n",
    "               'F1 Train': [f1_train], \n",
    "               'Accuracy Train': [accuracy_train],\n",
    "               'F1 Test': [f1_test],\n",
    "               'Accuracy Test' : [accuracy_test]})\n",
    "    return df"
   ]
  },
  {
   "cell_type": "code",
   "execution_count": 31,
   "metadata": {},
   "outputs": [
    {
     "data": {
      "text/html": [
       "<div>\n",
       "<style scoped>\n",
       "    .dataframe tbody tr th:only-of-type {\n",
       "        vertical-align: middle;\n",
       "    }\n",
       "\n",
       "    .dataframe tbody tr th {\n",
       "        vertical-align: top;\n",
       "    }\n",
       "\n",
       "    .dataframe thead th {\n",
       "        text-align: right;\n",
       "    }\n",
       "</style>\n",
       "<table border=\"1\" class=\"dataframe\">\n",
       "  <thead>\n",
       "    <tr style=\"text-align: right;\">\n",
       "      <th></th>\n",
       "      <th>Model</th>\n",
       "      <th>F1 Train</th>\n",
       "      <th>Accuracy Train</th>\n",
       "      <th>F1 Test</th>\n",
       "      <th>Accuracy Test</th>\n",
       "    </tr>\n",
       "  </thead>\n",
       "  <tbody>\n",
       "    <tr>\n",
       "      <th>0</th>\n",
       "      <td>Logistic Regression</td>\n",
       "      <td>0.872818</td>\n",
       "      <td>0.880597</td>\n",
       "      <td>0.776577</td>\n",
       "      <td>0.809524</td>\n",
       "    </tr>\n",
       "    <tr>\n",
       "      <th>1</th>\n",
       "      <td>Random Forest</td>\n",
       "      <td>0.984868</td>\n",
       "      <td>0.985075</td>\n",
       "      <td>0.720721</td>\n",
       "      <td>0.761905</td>\n",
       "    </tr>\n",
       "    <tr>\n",
       "      <th>2</th>\n",
       "      <td>Decision Tree</td>\n",
       "      <td>0.938555</td>\n",
       "      <td>0.940299</td>\n",
       "      <td>0.727941</td>\n",
       "      <td>0.714286</td>\n",
       "    </tr>\n",
       "    <tr>\n",
       "      <th>3</th>\n",
       "      <td>Gradient Boosted Tree</td>\n",
       "      <td>1.000000</td>\n",
       "      <td>1.000000</td>\n",
       "      <td>0.710857</td>\n",
       "      <td>0.690476</td>\n",
       "    </tr>\n",
       "  </tbody>\n",
       "</table>\n",
       "</div>"
      ],
      "text/plain": [
       "                   Model  F1 Train  Accuracy Train   F1 Test  Accuracy Test\n",
       "0    Logistic Regression  0.872818        0.880597  0.776577       0.809524\n",
       "1          Random Forest  0.984868        0.985075  0.720721       0.761905\n",
       "2          Decision Tree  0.938555        0.940299  0.727941       0.714286\n",
       "3  Gradient Boosted Tree  1.000000        1.000000  0.710857       0.690476"
      ]
     },
     "metadata": {},
     "output_type": "display_data"
    }
   ],
   "source": [
    "models = [[model_lr_fitted, \"Logistic Regression\"],\\\n",
    "          [model_rf_fitted, \"Random Forest\"],\\\n",
    "          [model_dt_fitted, \"Decision Tree\"],\\\n",
    "          [model_gbt_fitted, \"Gradient Boosted Tree\"]]\n",
    "all_results = pd.DataFrame(columns=['Model','F1 Train','Accuracy Train','F1 Test','Accuracy Test'])\n",
    "for model, model_name in models: \n",
    "    result = evaluate_model(model, model_name, train, test)\n",
    "    all_results = all_results.append(result, ignore_index = True)\n",
    "display(all_results)"
   ]
  },
  {
   "cell_type": "markdown",
   "metadata": {},
   "source": [
    "As we can see above, the logistic regression is the best model until now on this project with a f1-score on the test set of 79.1%."
   ]
  },
  {
   "cell_type": "markdown",
   "metadata": {},
   "source": [
    "### Hyperparameter Tuning for Logistic Regression\n",
    "\n",
    "Since Logistic Regression performed better than the other models, we will try to improve it by perfoming Hyperparameter Tuning. Our Cross Validation Model used regParam configured in the following values(0, 0.1)."
   ]
  },
  {
   "cell_type": "code",
   "execution_count": 32,
   "metadata": {},
   "outputs": [],
   "source": [
    "def create_CV_model(classifier,parameters,train):\n",
    "    '''\n",
    "    This function will create a cross validation object and return a trained model\n",
    "    \n",
    "    Input:\n",
    "    classifier: a spark ml classification algorithm\n",
    "    paramaters: parameter list to make grid search\n",
    "    \n",
    "    Output:\n",
    "    fit_model: cross validation fitted model object\n",
    "    '''\n",
    "    \n",
    "    #create VectorAssembler to push data to ML models\n",
    "    assembler = VectorAssembler(inputCols=features_cols,outputCol=\"inputFeatures\")\n",
    "\n",
    "    #Normalize Data\n",
    "    scaler = Normalizer(inputCol=\"inputFeatures\", outputCol=\"ScaledFeatures\")\n",
    "\n",
    "    pipeline = Pipeline(stages=[assembler, scaler, classifier])\n",
    " \n",
    "    model = CrossValidator(\n",
    "        estimator=pipeline,\n",
    "        estimatorParamMaps=parameters,\n",
    "        evaluator = MulticlassClassificationEvaluator(labelCol=\"label\",metricName='f1'),\n",
    "        numFolds=3)\n",
    "    fit_model = model.fit(train)\n",
    "    \n",
    "    return fit_model"
   ]
  },
  {
   "cell_type": "code",
   "execution_count": 33,
   "metadata": {},
   "outputs": [
    {
     "name": "stdout",
     "output_type": "stream",
     "text": [
      "1239.3246729373932\n"
     ]
    },
    {
     "data": {
      "text/html": [
       "<div>\n",
       "<style scoped>\n",
       "    .dataframe tbody tr th:only-of-type {\n",
       "        vertical-align: middle;\n",
       "    }\n",
       "\n",
       "    .dataframe tbody tr th {\n",
       "        vertical-align: top;\n",
       "    }\n",
       "\n",
       "    .dataframe thead th {\n",
       "        text-align: right;\n",
       "    }\n",
       "</style>\n",
       "<table border=\"1\" class=\"dataframe\">\n",
       "  <thead>\n",
       "    <tr style=\"text-align: right;\">\n",
       "      <th></th>\n",
       "      <th>Model</th>\n",
       "      <th>F1 Train</th>\n",
       "      <th>Accuracy Train</th>\n",
       "      <th>F1 Test</th>\n",
       "      <th>Accuracy Test</th>\n",
       "    </tr>\n",
       "  </thead>\n",
       "  <tbody>\n",
       "    <tr>\n",
       "      <th>0</th>\n",
       "      <td>Logistic Regression</td>\n",
       "      <td>0.872818</td>\n",
       "      <td>0.880597</td>\n",
       "      <td>0.776577</td>\n",
       "      <td>0.809524</td>\n",
       "    </tr>\n",
       "    <tr>\n",
       "      <th>1</th>\n",
       "      <td>Random Forest</td>\n",
       "      <td>0.984868</td>\n",
       "      <td>0.985075</td>\n",
       "      <td>0.720721</td>\n",
       "      <td>0.761905</td>\n",
       "    </tr>\n",
       "    <tr>\n",
       "      <th>2</th>\n",
       "      <td>Decision Tree</td>\n",
       "      <td>0.938555</td>\n",
       "      <td>0.940299</td>\n",
       "      <td>0.727941</td>\n",
       "      <td>0.714286</td>\n",
       "    </tr>\n",
       "    <tr>\n",
       "      <th>3</th>\n",
       "      <td>Gradient Boosted Tree</td>\n",
       "      <td>1.000000</td>\n",
       "      <td>1.000000</td>\n",
       "      <td>0.710857</td>\n",
       "      <td>0.690476</td>\n",
       "    </tr>\n",
       "    <tr>\n",
       "      <th>4</th>\n",
       "      <td>Logistic Regression Tunned</td>\n",
       "      <td>0.872818</td>\n",
       "      <td>0.880597</td>\n",
       "      <td>0.776577</td>\n",
       "      <td>0.809524</td>\n",
       "    </tr>\n",
       "  </tbody>\n",
       "</table>\n",
       "</div>"
      ],
      "text/plain": [
       "                        Model  F1 Train  Accuracy Train   F1 Test  \\\n",
       "0         Logistic Regression  0.872818        0.880597  0.776577   \n",
       "1               Random Forest  0.984868        0.985075  0.720721   \n",
       "2               Decision Tree  0.938555        0.940299  0.727941   \n",
       "3       Gradient Boosted Tree  1.000000        1.000000  0.710857   \n",
       "4  Logistic Regression Tunned  0.872818        0.880597  0.776577   \n",
       "\n",
       "   Accuracy Test  \n",
       "0       0.809524  \n",
       "1       0.761905  \n",
       "2       0.714286  \n",
       "3       0.690476  \n",
       "4       0.809524  "
      ]
     },
     "metadata": {},
     "output_type": "display_data"
    }
   ],
   "source": [
    "# Grid Search best parameters for logistic regression model and evaluate performance\n",
    "classifier = LogisticRegression(labelCol=\"label\", featuresCol=\"ScaledFeatures\", maxIter = 10)\n",
    "paramGrid = ParamGridBuilder()\\\n",
    "    .addGrid(classifier.regParam, [0.0, 0.1])\\\n",
    "    .addGrid(classifier.elasticNetParam, [0.0, 0.5, 1.0])\\\n",
    "    .build()\n",
    "start_time= time.time()            \n",
    "modelLR_best = create_CV_model(classifier,paramGrid, train)\n",
    "print(time.time() - start_time)\n",
    "lr_opt = evaluate_model(modelLR_best, \"Logistic Regression Tunned\", train, test)\n",
    "all_results = all_results.append(lr_opt, ignore_index = True)\n",
    "display(all_results)"
   ]
  },
  {
   "cell_type": "code",
   "execution_count": 34,
   "metadata": {},
   "outputs": [
    {
     "name": "stdout",
     "output_type": "stream",
     "text": [
      "Best Param (RegParam): 0.0\n",
      "Best Param (ElasticNetParam)0.0\n",
      "Best Param (fitIntercept)True\n"
     ]
    }
   ],
   "source": [
    "#best_model = modelLR_best.bestModel.stages[2].bestModel\n",
    "best_reg_param = modelLR_best.bestModel.stages[2]._java_obj.getRegParam()\n",
    "best_elasticnet_param = modelLR_best.bestModel.stages[2]._java_obj.getElasticNetParam()\n",
    "best_fitIntercept = modelLR_best.bestModel.stages[2]._java_obj.getFitIntercept()\n",
    "print('Best Param (RegParam): ' + str(best_reg_param))\n",
    "print('Best Param (ElasticNetParam)' + str(best_elasticnet_param))\n",
    "print('Best Param (fitIntercept)' + str(best_fitIntercept))"
   ]
  },
  {
   "cell_type": "markdown",
   "metadata": {},
   "source": [
    "Hyperparameter tuning actually scored worst than the untuned model, which can indicate overfitting of our model. "
   ]
  },
  {
   "cell_type": "code",
   "execution_count": 35,
   "metadata": {},
   "outputs": [
    {
     "data": {
      "image/png": "[encoded data removed]",
      "text/plain": [
       "<Figure size 864x504 with 1 Axes>"
      ]
     },
     "metadata": {
      "needs_background": "light"
     },
     "output_type": "display_data"
    }
   ],
   "source": [
    "# now let's retrieve feature importance for the Random Forest, just to have a general idea about them\n",
    "feat_imp = DenseVector(model_rf_fitted.stages[2].featureImportances).values\n",
    "\n",
    "feat_imp_sorted = np.array(feat_imp)\n",
    "pred_cols_sorted = np.array(features_cols)\n",
    "inds = np.flipud(feat_imp_sorted.argsort())\n",
    "pred_cols_sorted = pred_cols_sorted[inds]\n",
    "feat_imp_sorted = feat_imp_sorted[inds]\n",
    "\n",
    "# plotting feature importance\n",
    "plt.figure(figsize=(12,7))\n",
    "chart = sns.barplot(x=pred_cols_sorted,y=feat_imp_sorted,palette='rainbow')\n",
    "chart.set_xticklabels(\n",
    "    chart.get_xticklabels(), \n",
    "    rotation=45, \n",
    "    horizontalalignment='right',\n",
    "    fontsize='large'\n",
    ")\n",
    "plt.show()"
   ]
  },
  {
   "cell_type": "markdown",
   "metadata": {},
   "source": [
    "# Final Steps\n",
    "Clean up your code, adding comments and renaming variables to make the code easier to read and maintain. Refer to the Spark Project Overview page and Data Scientist Capstone Project Rubric to make sure you are including all components of the capstone project and meet all expectations. Remember, this includes thorough documentation in a README file in a Github repository, as well as a web app or blog post."
   ]
  }
 ],
 "metadata": {
  "kernelspec": {
   "display_name": "Python 3",
   "language": "python",
   "name": "python3"
  },
  "language_info": {
   "codemirror_mode": {
    "name": "ipython",
    "version": 3
   },
   "file_extension": ".py",
   "mimetype": "text/x-python",
   "name": "python",
   "nbconvert_exporter": "python",
   "pygments_lexer": "ipython3",
   "version": "3.8.8"
  }
 },
 "nbformat": 4,
 "nbformat_minor": 4
}
