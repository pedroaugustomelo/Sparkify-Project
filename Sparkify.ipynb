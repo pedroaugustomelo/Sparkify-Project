{
 "cells": [
  {
   "cell_type": "markdown",
   "metadata": {},
   "source": [
    "# Sparkify Project Workspace\n",
    "This workspace contains a tiny subset (128MB) of the full dataset available (12GB). Feel free to use this workspace to build your project, or to explore a smaller subset with Spark before deploying your cluster on the cloud. Instructions for setting up your Spark cluster is included in the last lesson of the Extracurricular Spark Course content.\n",
    "\n",
    "You can follow the steps below to guide your data analysis and model building portion of this project."
   ]
  },
  {
   "cell_type": "code",
   "execution_count": 1,
   "metadata": {},
   "outputs": [],
   "source": [
    "# import libraries\n",
    "\n",
    "from pyspark.sql import SparkSession\n",
    "from pyspark.sql.functions import avg, col, concat, desc, explode,rand, lit, min, max, sum, split, udf, isnan, when, count, countDistinct\n",
    "from pyspark.sql.types import IntegerType\n",
    "from pyspark.sql.types import DateType\n",
    "from pyspark.sql.window import Window\n",
    "import datetime\n",
    "from pyspark.sql.functions import date_format\n",
    "\n",
    "from pyspark.ml import Pipeline\n",
    "from pyspark.ml.classification import LogisticRegression, DecisionTreeClassifier,RandomForestClassifier,GBTClassifier\n",
    "from pyspark.ml.evaluation import MulticlassClassificationEvaluator\n",
    "from pyspark.ml.feature import VectorAssembler, StandardScaler, Normalizer\n",
    "from pyspark.ml.tuning import CrossValidator, ParamGridBuilder\n",
    "from pyspark.mllib.evaluation import MulticlassMetrics\n",
    "\n",
    "import matplotlib.pyplot as plt\n",
    "%matplotlib inline\n",
    "import pandas as pd\n",
    "import seaborn as sns\n",
    "import time"
   ]
  },
  {
   "cell_type": "code",
   "execution_count": 2,
   "metadata": {},
   "outputs": [],
   "source": [
    "# create a Spark session\n",
    "spark = SparkSession.builder \\\n",
    "    .master(\"local\") \\\n",
    "    .appName(\"Sparkify Project\") \\\n",
    "    .getOrCreate()"
   ]
  },
  {
   "cell_type": "markdown",
   "metadata": {},
   "source": [
    "# Load and Clean Dataset\n",
    "In this workspace, the mini-dataset file is `mini_sparkify_event_data.json`. Load and clean the dataset, checking for invalid or missing data - for example, records without userids or sessionids. "
   ]
  },
  {
   "cell_type": "code",
   "execution_count": 3,
   "metadata": {},
   "outputs": [],
   "source": [
    "# loading Dataset\n",
    "sparkify_data = 'mini_sparkify_event_data.json'\n",
    "df = spark.read.json(sparkify_data)"
   ]
  },
  {
   "cell_type": "code",
   "execution_count": 4,
   "metadata": {},
   "outputs": [
    {
     "name": "stdout",
     "output_type": "stream",
     "text": [
      "root\n",
      " |-- artist: string (nullable = true)\n",
      " |-- auth: string (nullable = true)\n",
      " |-- firstName: string (nullable = true)\n",
      " |-- gender: string (nullable = true)\n",
      " |-- itemInSession: long (nullable = true)\n",
      " |-- lastName: string (nullable = true)\n",
      " |-- length: double (nullable = true)\n",
      " |-- level: string (nullable = true)\n",
      " |-- location: string (nullable = true)\n",
      " |-- method: string (nullable = true)\n",
      " |-- page: string (nullable = true)\n",
      " |-- registration: long (nullable = true)\n",
      " |-- sessionId: long (nullable = true)\n",
      " |-- song: string (nullable = true)\n",
      " |-- status: long (nullable = true)\n",
      " |-- ts: long (nullable = true)\n",
      " |-- userAgent: string (nullable = true)\n",
      " |-- userId: string (nullable = true)\n",
      "\n"
     ]
    }
   ],
   "source": [
    "df.printSchema()"
   ]
  },
  {
   "cell_type": "code",
   "execution_count": 5,
   "metadata": {},
   "outputs": [
    {
     "data": {
      "text/plain": [
       "Row(artist='Martha Tilston', auth='Logged In', firstName='Colin', gender='M', itemInSession=50, lastName='Freeman', length=277.89016, level='paid', location='Bakersfield, CA', method='PUT', page='NextSong', registration=1538173362000, sessionId=29, song='Rockpools', status=200, ts=1538352117000, userAgent='Mozilla/5.0 (Windows NT 6.1; WOW64; rv:31.0) Gecko/20100101 Firefox/31.0', userId='30')"
      ]
     },
     "execution_count": 5,
     "metadata": {},
     "output_type": "execute_result"
    }
   ],
   "source": [
    "#Observe first row\n",
    "df.head()"
   ]
  },
  {
   "cell_type": "code",
   "execution_count": 6,
   "metadata": {},
   "outputs": [
    {
     "name": "stdout",
     "output_type": "stream",
     "text": [
      "+------+----+---------+------+-------------+--------+------+-----+--------+------+----+------------+---------+----+------+---+---------+------+\n",
      "|artist|auth|firstName|gender|itemInSession|lastName|length|level|location|method|page|registration|sessionId|song|status| ts|userAgent|userId|\n",
      "+------+----+---------+------+-------------+--------+------+-----+--------+------+----+------------+---------+----+------+---+---------+------+\n",
      "|     0|   0|        0|     0|            0|       0|     0|    0|       0|     0|   0|           0|        0|   0|     0|  0|        0|     0|\n",
      "+------+----+---------+------+-------------+--------+------+-----+--------+------+----+------------+---------+----+------+---+---------+------+\n",
      "\n"
     ]
    }
   ],
   "source": [
    "# count the number of nan values in each column\n",
    "df.select([count(when(isnan(c), c)).alias(c) for c in df.columns]).show()"
   ]
  },
  {
   "cell_type": "code",
   "execution_count": 7,
   "metadata": {},
   "outputs": [
    {
     "name": "stdout",
     "output_type": "stream",
     "text": [
      "+------+----+---------+------+-------------+--------+------+-----+--------+------+----+------------+---------+-----+------+---+---------+------+\n",
      "|artist|auth|firstName|gender|itemInSession|lastName|length|level|location|method|page|registration|sessionId| song|status| ts|userAgent|userId|\n",
      "+------+----+---------+------+-------------+--------+------+-----+--------+------+----+------------+---------+-----+------+---+---------+------+\n",
      "| 58392|   0|     8346|  8346|            0|    8346| 58392|    0|    8346|     0|   0|        8346|        0|58392|     0|  0|     8346|     0|\n",
      "+------+----+---------+------+-------------+--------+------+-----+--------+------+----+------------+---------+-----+------+---+---------+------+\n",
      "\n"
     ]
    }
   ],
   "source": [
    "# count the number of null values in each column\n",
    "df.select([count(when(isnan(c) | col(c).isNull(), c)).alias(c) for c in df.columns]).show()"
   ]
  },
  {
   "cell_type": "code",
   "execution_count": 8,
   "metadata": {},
   "outputs": [
    {
     "name": "stdout",
     "output_type": "stream",
     "text": [
      "8346\n",
      "0\n"
     ]
    }
   ],
   "source": [
    "# Check the number of empty values in two columns: \"userId\" and \"sessionId\"\n",
    "print(df.filter(df.userId == \"\").count())\n",
    "print(df.filter(df.sessionId == \"\").count())"
   ]
  },
  {
   "cell_type": "code",
   "execution_count": 9,
   "metadata": {},
   "outputs": [
    {
     "data": {
      "text/plain": [
       "278154"
      ]
     },
     "execution_count": 9,
     "metadata": {},
     "output_type": "execute_result"
    }
   ],
   "source": [
    "# It seems there are no sessionID missing, so we can only drop the rows with empty values in \"userID\"\n",
    "df = df.select(\"*\").where((df.userId != \"\"))\n",
    "df.count()"
   ]
  },
  {
   "cell_type": "code",
   "execution_count": 10,
   "metadata": {},
   "outputs": [
    {
     "name": "stdout",
     "output_type": "stream",
     "text": [
      "+--------------------+\n",
      "|                page|\n",
      "+--------------------+\n",
      "|               About|\n",
      "|          Add Friend|\n",
      "|     Add to Playlist|\n",
      "|              Cancel|\n",
      "|Cancellation Conf...|\n",
      "|           Downgrade|\n",
      "|               Error|\n",
      "|                Help|\n",
      "|                Home|\n",
      "|              Logout|\n",
      "|            NextSong|\n",
      "|         Roll Advert|\n",
      "|       Save Settings|\n",
      "|            Settings|\n",
      "|    Submit Downgrade|\n",
      "|      Submit Upgrade|\n",
      "|         Thumbs Down|\n",
      "|           Thumbs Up|\n",
      "|             Upgrade|\n",
      "+--------------------+\n",
      "\n"
     ]
    }
   ],
   "source": [
    "# Check the different options for \"page\" column:\n",
    "df.select(\"page\").dropDuplicates().sort(\"page\").show()"
   ]
  },
  {
   "cell_type": "code",
   "execution_count": 11,
   "metadata": {},
   "outputs": [],
   "source": [
    "# Change the time format of ts and registration in the dataframe\n",
    "change_time_format = udf(lambda x: datetime.datetime.fromtimestamp(x / 1000.0).strftime(\"%Y-%m-%d %H:%M:%S\"))\n",
    "df = df.withColumn(\"tsDateColumn\", change_time_format(df.ts))\n",
    "df = df.withColumn(\"registrationDateColumn\", change_time_format(df.registration))"
   ]
  },
  {
   "cell_type": "markdown",
   "metadata": {},
   "source": [
    "# Exploratory Data Analysis\n",
    "When you're working with the full dataset, perform EDA by loading a small subset of the data and doing basic manipulations within Spark. In this workspace, you are already provided a small subset of data you can explore.\n",
    "\n",
    "### Define Churn\n",
    "\n",
    "Once you've done some preliminary analysis, create a column `Churn` to use as the label for your model. I suggest using the `Cancellation Confirmation` events to define your churn, which happen for both paid and free users. As a bonus task, you can also look into the `Downgrade` events.\n",
    "\n",
    "### Explore Data\n",
    "Once you've defined churn, perform some exploratory data analysis to observe the behavior for users who stayed vs users who churned. You can start by exploring aggregates on these two groups of users, observing how much of a specific action they experienced per a certain time unit or number of songs played."
   ]
  },
  {
   "cell_type": "markdown",
   "metadata": {},
   "source": [
    "## Churn \n",
    "Churn can be defined as a metric that indicates how much a company lost in terms of revenue or clients. Detecting churn before it happens is an important task in order to implement countermeasures to avoid it, like giving additional offers to these customers. So, we must have a precise model for detecting it.\n",
    "In that regard, we will create a column called \"Churn\", that will be defined according to the cancellation/confirmation event, which happens for both paid and free user. "
   ]
  },
  {
   "cell_type": "code",
   "execution_count": 12,
   "metadata": {},
   "outputs": [
    {
     "data": {
      "text/plain": [
       "225"
      ]
     },
     "execution_count": 12,
     "metadata": {},
     "output_type": "execute_result"
    }
   ],
   "source": [
    "#Number of users in the dataset\n",
    "df.select(\"userID\").dropDuplicates().count()"
   ]
  },
  {
   "cell_type": "code",
   "execution_count": 13,
   "metadata": {},
   "outputs": [
    {
     "data": {
      "text/plain": [
       "52"
      ]
     },
     "execution_count": 13,
     "metadata": {},
     "output_type": "execute_result"
    }
   ],
   "source": [
    "#Number of user who confirmed cancellation in the dataset\n",
    "df.select(\"userID\").where(df.page == \"Cancellation Confirmation\").dropDuplicates().count()"
   ]
  },
  {
   "cell_type": "code",
   "execution_count": 14,
   "metadata": {},
   "outputs": [
    {
     "data": {
      "text/plain": [
       "154"
      ]
     },
     "execution_count": 14,
     "metadata": {},
     "output_type": "execute_result"
    }
   ],
   "source": [
    "#Number of users who downgraded\n",
    "df.select(\"userID\").where(df.page == \"Downgrade\").dropDuplicates().count()"
   ]
  },
  {
   "cell_type": "markdown",
   "metadata": {},
   "source": [
    "Almost 70% of the costumers submitted Downgrade, so we will not consider it as a delimiter for churn. Let's focus only on the \"Cancellation confirmation\" event."
   ]
  },
  {
   "cell_type": "code",
   "execution_count": 15,
   "metadata": {},
   "outputs": [],
   "source": [
    "# Flag all the users who churned, based on the \"Cancellation confirmation\" event\n",
    "churn_find = udf(lambda x: 1 if x == \"Cancellation Confirmation\" else 0, IntegerType())\n",
    "df = df.withColumn(\"churn\", churn_find(\"page\"))\n",
    "\n",
    "# Flag all the rows for the customers who churned.\n",
    "churn_window = Window.partitionBy(\"userId\").orderBy(desc(\"ts\")).rangeBetween(Window.unboundedPreceding, 0)\n",
    "df = df.withColumn(\"churn\", max(\"churn\").over(churn_window))"
   ]
  },
  {
   "cell_type": "code",
   "execution_count": 16,
   "metadata": {},
   "outputs": [
    {
     "name": "stdout",
     "output_type": "stream",
     "text": [
      "+------+---------+---------+------+-------------+--------+------+-----+------------------+------+--------------------+-------------+---------+----+------+-------------+--------------------+------+-------------------+----------------------+-----+\n",
      "|artist|     auth|firstName|gender|itemInSession|lastName|length|level|          location|method|                page| registration|sessionId|song|status|           ts|           userAgent|userId|       tsDateColumn|registrationDateColumn|churn|\n",
      "+------+---------+---------+------+-------------+--------+------+-----+------------------+------+--------------------+-------------+---------+----+------+-------------+--------------------+------+-------------------+----------------------+-----+\n",
      "|  null|Logged In|    Mason|     M|            9|    Hart|  null| free|Corpus Christi, TX|   PUT|              Cancel|1533157139000|      174|null|   307|1539318918000|\"Mozilla/5.0 (Mac...|   125|2018-10-12 04:35:18|   2018-08-01 20:58:59|    1|\n",
      "|  null|Cancelled|    Mason|     M|           10|    Hart|  null| free|Corpus Christi, TX|   GET|Cancellation Conf...|1533157139000|      174|null|   200|1539318918000|\"Mozilla/5.0 (Mac...|   125|2018-10-12 04:35:18|   2018-08-01 20:58:59|    1|\n",
      "|  null|Logged In|    Mason|     M|            8|    Hart|  null| free|Corpus Christi, TX|   GET|         Roll Advert|1533157139000|      174|null|   200|1539318917000|\"Mozilla/5.0 (Mac...|   125|2018-10-12 04:35:17|   2018-08-01 20:58:59|    1|\n",
      "+------+---------+---------+------+-------------+--------+------+-----+------------------+------+--------------------+-------------+---------+----+------+-------------+--------------------+------+-------------------+----------------------+-----+\n",
      "only showing top 3 rows\n",
      "\n"
     ]
    }
   ],
   "source": [
    "# checks users who churned\n",
    "df.select('*').where(df.churn == 1).show(n=3)"
   ]
  },
  {
   "cell_type": "markdown",
   "metadata": {},
   "source": [
    "## Exploratory Data Analysis "
   ]
  },
  {
   "cell_type": "markdown",
   "metadata": {},
   "source": [
    "### Level of Subscription\n",
    "\n"
   ]
  },
  {
   "cell_type": "code",
   "execution_count": 17,
   "metadata": {},
   "outputs": [],
   "source": [
    "def plot_ratio(subset, group, df = df):\n",
    "    '''Plots ratio of users who churned grouped by columns\n",
    "    Args: \n",
    "         subset: string of column to drop duplicates\n",
    "         group: string of column to group by\n",
    "         df = dataframe with data\n",
    "    '''\n",
    "    churn_ratio = df.drop_duplicates([subset]).groupby([group]).agg((sum(\"churn\")/count('userId')).alias('ratio'))\n",
    "    churn_ratio.show()\n",
    "    churn_ratio = churn_ratio.toPandas().sort_values(by = \"ratio\")\n",
    "    # plots proportion\n",
    "    ax = churn_ratio.plot(kind='bar', figsize=(8,5), title=('Ratio of users who churned per {0}').format(group))\n",
    "    ax.set_ylabel(\"Ratio\")\n",
    "    ax.set_xlabel(group)"
   ]
  },
  {
   "cell_type": "code",
   "execution_count": 18,
   "metadata": {},
   "outputs": [
    {
     "name": "stdout",
     "output_type": "stream",
     "text": [
      "+-----+-------------------+\n",
      "|level|              ratio|\n",
      "+-----+-------------------+\n",
      "| free|             0.2625|\n",
      "| paid|0.21379310344827587|\n",
      "+-----+-------------------+\n",
      "\n"
     ]
    },
    {
     "data": {
      "image/png": "[encoded data removed]",
      "text/plain": [
       "<matplotlib.figure.Figure at 0x7fef95d10160>"
      ]
     },
     "metadata": {
      "needs_background": "light"
     },
     "output_type": "display_data"
    }
   ],
   "source": [
    "# finds the rate of churn in both levels of subscription (free or paid)\n",
    "plot_ratio('userId', 'level')"
   ]
  },
  {
   "cell_type": "markdown",
   "metadata": {},
   "source": [
    "### Gender"
   ]
  },
  {
   "cell_type": "code",
   "execution_count": 19,
   "metadata": {},
   "outputs": [
    {
     "name": "stdout",
     "output_type": "stream",
     "text": [
      "+------+-------------------+\n",
      "|gender|              ratio|\n",
      "+------+-------------------+\n",
      "|     F|0.19230769230769232|\n",
      "|     M| 0.2644628099173554|\n",
      "+------+-------------------+\n",
      "\n"
     ]
    },
    {
     "data": {
      "image/png": "[encoded data removed]",
      "text/plain": [
       "<matplotlib.figure.Figure at 0x7fef65ffe9e8>"
      ]
     },
     "metadata": {
      "needs_background": "light"
     },
     "output_type": "display_data"
    }
   ],
   "source": [
    "# finds the ratio of users who churned in both genders (male or female)\n",
    "plot_ratio('userId', 'gender')"
   ]
  },
  {
   "cell_type": "markdown",
   "metadata": {},
   "source": [
    "### Average number of songs played"
   ]
  },
  {
   "cell_type": "code",
   "execution_count": 20,
   "metadata": {},
   "outputs": [
    {
     "name": "stdout",
     "output_type": "stream",
     "text": [
      "+-----+---------------------------------------+\n",
      "|churn|(count(churn) / count(DISTINCT userId))|\n",
      "+-----+---------------------------------------+\n",
      "|    1|                      699.8846153846154|\n",
      "|    0|                     1108.1734104046243|\n",
      "+-----+---------------------------------------+\n",
      "\n"
     ]
    },
    {
     "data": {
      "image/png": "[encoded data removed]",
      "text/plain": [
       "<matplotlib.figure.Figure at 0x7fef65f74898>"
      ]
     },
     "metadata": {
      "needs_background": "light"
     },
     "output_type": "display_data"
    }
   ],
   "source": [
    "avg_songs_played = df.select(\"*\").where(df.page == \"NextSong\").groupby(\"churn\").agg(count(\"churn\")/countDistinct(\"userId\"))\n",
    "avg_songs_played.show()\n",
    "avg_songs_played = avg_songs_played.toPandas()\n",
    "avg_songs_played.plot.bar(x='churn', y='(count(churn) / count(DISTINCT userId))', rot=0, legend= None)\n",
    "plt.title('Average Songs Played');\n",
    "plt.show()"
   ]
  },
  {
   "cell_type": "markdown",
   "metadata": {},
   "source": [
    "### Page"
   ]
  },
  {
   "cell_type": "code",
   "execution_count": 21,
   "metadata": {},
   "outputs": [
    {
     "data": {
      "image/png": "[encoded data removed]",
      "text/plain": [
       "<matplotlib.figure.Figure at 0x7fef7c7893c8>"
      ]
     },
     "metadata": {
      "needs_background": "light"
     },
     "output_type": "display_data"
    }
   ],
   "source": [
    "#find percentage in page ocurrence in cancelled and active groups\n",
    "dfp = df.toPandas()\n",
    "users_1 = dfp[dfp.churn == 1].groupby(['page'])['userId'].count().drop('NextSong')\n",
    "users_1 = users_1 /users_1.sum()*100\n",
    "\n",
    "users_0 = dfp[dfp.churn == 0].groupby(['page'])['userId'].count().drop('NextSong')\n",
    "users_0 = users_0 /users_0.sum()*100\n",
    "\n",
    "users_df = pd.DataFrame({'Cancelled': users_1,'Active users':users_0})\n",
    "ax = users_df.plot(kind='barh', figsize=(8,10));\n",
    "ax.set_xlabel('Percent of envent occurence (%)')\n",
    "ax.set_title('Percent of envent occurence for active and cancelled users');"
   ]
  },
  {
   "cell_type": "markdown",
   "metadata": {},
   "source": [
    "From the chart above, it seems that users who churned experienced a higher degree of exposure to Roll Advert and were more susceptible to rate a music negativelly. "
   ]
  },
  {
   "cell_type": "markdown",
   "metadata": {},
   "source": [
    "# Feature Engineering\n",
    "Once you've familiarized yourself with the data, build out the features you find promising to train your model on. To work with the full dataset, you can follow the following steps.\n",
    "- Write a script to extract the necessary features from the smaller subset of data\n",
    "- Ensure that your script is scalable, using the best practices discussed in Lesson 3\n",
    "- Try your script on the full data set, debugging your script if necessary\n",
    "\n",
    "If you are working in the classroom workspace, you can just extract features based on the small subset of data contained here. Be sure to transfer over this work to the larger dataset when you work on your Spark cluster."
   ]
  },
  {
   "cell_type": "code",
   "execution_count": 22,
   "metadata": {},
   "outputs": [],
   "source": [
    "def feature_engineering(filepath):\n",
    "    '''\n",
    "    Creates necessary features to train machine learning algorithms.\n",
    "    First loads data set from file\n",
    "    \n",
    "    Resulting DF Structure:\n",
    "    \n",
    "    root\n",
    "     |-- userId: string\n",
    "     |-- downgraded: long\n",
    "     |-- visited_downgrade: long\n",
    "     |-- visited_cancel: long\n",
    "     |-- paid: long\n",
    "     |-- male: long\n",
    "     |-- numSongs: int\n",
    "     |-- avgThumbsUp: double\n",
    "     |-- avgThumbsDown: double\n",
    "     |-- numFriends: long\n",
    "     |-- avgError: double\n",
    "     |-- NumSession: double\n",
    "     |-- avgAdvert : double\n",
    "     |-- churn: long\n",
    "     \n",
    "    \n",
    "    Args:\n",
    "        filepath: path to json dataset on file\n",
    "    Out:\n",
    "        data: engineered dataset\n",
    "    '''\n",
    "    \n",
    "    #dataframe with raw data \n",
    "    df = spark.read.json(filepath)\n",
    "    \n",
    "    #user defined functions\n",
    "    churn = udf(lambda x: int(x==\"Cancellation Confirmation\"), IntegerType())\n",
    "    downgrade = udf(lambda x: int(x==\"Submit Downgrade\"), IntegerType())\n",
    "    visited_downgrade = udf(lambda x: int(x=='Downgrade'), IntegerType())\n",
    "    visited_cancel = udf(lambda x: int(x=='Cancel'), IntegerType())\n",
    "    days = lambda i: i * 86400 \n",
    "    get_day = udf(lambda x: datetime.datetime.fromtimestamp(x/1000), DateType())\n",
    "    paid = udf(lambda x: int(x=='paid'), IntegerType())\n",
    "    male = udf(lambda x: int(x=='M'), IntegerType())\n",
    "    \n",
    "    #define windows\n",
    "    windowval = Window.partitionBy(\"userId\").orderBy(desc(\"ts\")).rangeBetween(Window.unboundedPreceding, 0)\n",
    "    \n",
    "    #select distinct users in which we will merge our results\n",
    "    users_df = df.where((df.userId != \"\") | (df.sessionId != \"\"))\\\n",
    "        .select('userId').dropDuplicates()\n",
    "    \n",
    "    #downgraded: 0 or 1\n",
    "    downgraded_df = df.select('userId', 'page','ts').withColumn(\"downgraded\", downgrade(\"page\"))\n",
    "    downgraded_df = downgraded_df.withColumn(\"downgraded\", max(\"downgraded\").over(windowval))\\\n",
    "        .select('userId','downgraded').dropDuplicates(['userId']).drop('page', 'ts')\n",
    "    \n",
    "    #visited downgrade\n",
    "    visit_down_df = df.select('userId', 'page','ts').withColumn(\"visited_downgrade\", visited_downgrade(\"page\"))\n",
    "    visit_down_df = visit_down_df.withColumn(\"visited_downgrade\", max(\"visited_downgrade\").over(windowval))\\\n",
    "        .select('userId','visited_downgrade').dropDuplicates(['userId']).drop('page', 'ts')\n",
    "    \n",
    "    #visited cancel: 0 or 1\n",
    "    visit_cancel_df = df.select('userId', 'page','ts').withColumn(\"visited_cancel\", visited_cancel(\"page\"))\n",
    "    visit_cancel_df = visit_cancel_df.withColumn(\"visited_cancel\", max(\"visited_cancel\").over(windowval))\\\n",
    "        .select('userId','visited_cancel').dropDuplicates(['userId']).drop('page', 'ts')\n",
    "    \n",
    "    #paid : 0 or 1\n",
    "    paid_df = df.select('userID', 'level')\\\n",
    "      .dropDuplicates(['userId']).withColumn('paid', paid(\"level\")).drop('level')\n",
    "    \n",
    "    #male : 0 or 1\n",
    "    male_df = df.select('userID', 'gender')\\\n",
    "        .dropDuplicates(['userId']).withColumn('Male', male(\"gender\")).drop('gender')\n",
    "    \n",
    "    #number of songs played: int\n",
    "    songs_df = df.filter(df.page=='NextSong')\\\n",
    "        .select('userId', 'page')\\\n",
    "        .groupBy('userId').count().withColumnRenamed('count', 'numSongs').drop('page')\n",
    "    \n",
    "    #average thumbs up: float\n",
    "    avgThumbsUp = df.filter(df.page=='Thumbs Up')\\\n",
    "        .select('userId', 'page', 'ts')\\\n",
    "        .withColumn('date', get_day(col('ts')))\\\n",
    "        .groupBy('userId', 'date').agg({'page':'count'}).groupBy('userId')\\\n",
    "        .mean().withColumnRenamed('avg(count(page))', 'avgThumbsUp').drop('page', 'date', 'ts')\n",
    "    \n",
    "    #average thumbs down\n",
    "    avgThumbsDown = df.filter(df.page=='Thumbs Down')\\\n",
    "        .select('userId', 'page', 'ts')\\\n",
    "        .withColumn('date', get_day(col('ts')))\\\n",
    "        .groupBy('userId', 'date').agg({'page':'count'})\\\n",
    "        .groupBy('userId').mean()\\\n",
    "        .withColumnRenamed('avg(count(page))', 'avgThumbsDown').drop('page', 'date', 'ts')\n",
    "    \n",
    "    #number of friends\n",
    "    numFriends = df.filter(df.page=='Add Friend')\\\n",
    "        .select('userId', 'page')\\\n",
    "        .groupBy('userId').count().withColumnRenamed('count', 'numFriends').drop('page')\n",
    "    \n",
    "    # daily errors\n",
    "    errors_df = df.filter(df.page=='Error')\\\n",
    "        .select('userId', 'page', 'ts')\\\n",
    "        .withColumn('date', get_day(col('ts')))\\\n",
    "        .groupBy('userId', 'date').agg({'page':'count'}).groupBy('userId')\\\n",
    "        .mean().withColumnRenamed('avg(count(page))', 'avgError').drop('page', 'date', 'ts')\n",
    "    \n",
    "    #daily roll advert \n",
    "    advert_df = df.filter(df.page=='Roll Advert')\\\n",
    "        .select('userId', 'page', 'ts')\\\n",
    "        .withColumn('date', get_day(col('ts')))\\\n",
    "        .groupBy('userId', 'date').agg({'page':'count'}).groupBy('userId')\\\n",
    "        .mean().withColumnRenamed('avg(count(page))', 'avgAdvert').drop('page', 'date', 'ts')\n",
    "    \n",
    "    #number of sessions\n",
    "    num_sessions_df = df.select('userId', 'sessionId')\\\n",
    "        .dropDuplicates().groupby('userId')\\\n",
    "        .count().withColumnRenamed('count', 'numSession').drop('sessionId')\n",
    "    \n",
    "    #churn\n",
    "    label_df = df.select('userId', 'page','ts').withColumn(\"label\", churn(\"page\"))\n",
    "    label_df = label_df.withColumn(\"label\", max(\"label\").over(windowval))\\\n",
    "        .select('userId','label').dropDuplicates(['userId']).drop('page', 'ts')\n",
    "    \n",
    "    #joining all\n",
    "    data = users_df.join(downgraded_df,'userId')\\\n",
    "    .join(visit_down_df,'userId')\\\n",
    "    .join(visit_cancel_df, 'userId')\\\n",
    "    .join(paid_df, 'userId')\\\n",
    "    .join(male_df, 'userId')\\\n",
    "    .join(songs_df, 'userId')\\\n",
    "    .join(avgThumbsUp, 'userId')\\\n",
    "    .join(avgThumbsDown, 'userId')\\\n",
    "    .join(numFriends, 'userId')\\\n",
    "    .join(errors_df, 'userId')\\\n",
    "    .join(advert_df, 'userId')\\\n",
    "    .join(num_sessions_df, 'userId')\\\n",
    "    .join(label_df, 'userId')\n",
    "\n",
    "    \n",
    "    return data    "
   ]
  },
  {
   "cell_type": "code",
   "execution_count": 23,
   "metadata": {},
   "outputs": [],
   "source": [
    "new_features = feature_engineering(\"mini_sparkify_event_data.json\")"
   ]
  },
  {
   "cell_type": "code",
   "execution_count": 24,
   "metadata": {},
   "outputs": [
    {
     "name": "stdout",
     "output_type": "stream",
     "text": [
      "+------+----------+-----------------+--------------+----+----+--------+------------------+------------------+----------+------------------+------------------+----------+-----+\n",
      "|userId|downgraded|visited_downgrade|visited_cancel|paid|Male|numSongs|       avgThumbsUp|     avgThumbsDown|numFriends|          avgError|         avgAdvert|numSession|label|\n",
      "+------+----------+-----------------+--------------+----+----+--------+------------------+------------------+----------+------------------+------------------+----------+-----+\n",
      "|   124|         0|                0|             0|   1|   0|    4079| 5.896551724137931|1.8636363636363635|        74|               1.2|               1.0|        29|    0|\n",
      "|     7|         0|                0|             0|   0|   1|     150|              1.75|               1.0|         1|               1.0|               3.2|         7|    0|\n",
      "|    15|         0|                0|             0|   1|   1|    1914|               5.4|               1.4|        31|               1.0|               1.0|        15|    0|\n",
      "|    54|         0|                0|             0|   1|   0|    2841| 6.037037037037037|1.5263157894736843|        33|               1.0|3.6153846153846154|        37|    1|\n",
      "|   155|         0|                0|             0|   0|   0|     820| 8.285714285714286|               1.0|        11|               1.0|               4.0|         6|    0|\n",
      "|   132|         0|                0|             0|   0|   0|    1928| 5.333333333333333|               1.7|        41|               1.0|               1.0|        16|    0|\n",
      "|   101|         0|                0|             0|   0|   1|    1797| 7.818181818181818|2.2857142857142856|        29|               1.5|               4.0|        10|    1|\n",
      "|    11|         0|                0|             0|   0|   0|     647| 2.857142857142857|1.2857142857142858|         6|               1.0|              3.25|        16|    0|\n",
      "|   138|         0|                0|             0|   0|   1|    2070|            5.9375|2.6666666666666665|        41|               1.0|2.8333333333333335|        15|    0|\n",
      "|300017|         0|                0|             0|   1|   0|    3632| 7.046511627906977|1.6470588235294117|        63|              1.25|1.2222222222222223|        63|    0|\n",
      "|100021|         0|                0|             0|   0|   1|     230|              2.75|1.6666666666666667|         7|               1.0|               6.0|         5|    1|\n",
      "|    69|         0|                0|             0|   0|   0|    1125|               6.0|               1.5|        12|1.3333333333333333|               1.5|         9|    0|\n",
      "|    42|         0|                0|             0|   0|   0|    3573| 4.256410256410256|1.1904761904761905|        52|               1.0|               2.0|        47|    0|\n",
      "|    73|         0|                0|             0|   0|   0|     377|               3.5|              1.75|        11|               1.0|               1.0|         6|    1|\n",
      "|200010|         0|                0|             0|   0|   0|     237|               3.5|              1.75|         8|               1.0|              4.25|         6|    0|\n",
      "|   113|         0|                0|             0|   0|   0|    1585|3.5652173913043477|               1.2|        32|               1.0|               1.0|        24|    0|\n",
      "|    30|         0|                0|             0|   1|   1|    1417| 4.428571428571429|1.8888888888888888|        25|               1.0|               4.0|        32|    0|\n",
      "|    59|         0|                0|             0|   0|   1|     724| 4.285714285714286|               1.8|        16|               2.0|              2.75|         7|    0|\n",
      "|   139|         0|                0|             0|   0|   1|     377|               6.0|1.6666666666666667|         6|               1.0|               1.0|         4|    0|\n",
      "|   146|         0|                0|             0|   0|   1|     650|3.1666666666666665|               1.5|         9|               1.0|4.3076923076923075|        17|    0|\n",
      "+------+----------+-----------------+--------------+----+----+--------+------------------+------------------+----------+------------------+------------------+----------+-----+\n",
      "only showing top 20 rows\n",
      "\n"
     ]
    }
   ],
   "source": [
    "new_features.show()"
   ]
  },
  {
   "cell_type": "markdown",
   "metadata": {},
   "source": [
    "# Modeling\n",
    "Split the full dataset into train, test, and validation sets. Test out several of the machine learning methods you learned. Evaluate the accuracy of the various models, tuning parameters as necessary. Determine your winning model based on test accuracy and report results on the validation set. Since the churned users are a fairly small subset, I suggest using F1 score as the metric to optimize."
   ]
  },
  {
   "cell_type": "markdown",
   "metadata": {},
   "source": [
    "### Transform into Vector and Normalize"
   ]
  },
  {
   "cell_type": "code",
   "execution_count": 25,
   "metadata": {},
   "outputs": [],
   "source": [
    "#create VectorAssembler to push data to ML models\n",
    "assembler = VectorAssembler(inputCols=[\"downgraded\",\"visited_downgrade\",\"visited_cancel\",\"paid\",\\\n",
    "                                       \"Male\",\"numSongs\",\"avgThumbsUp\",\"avgThumbsDown\",\"numFriends\",\"avgError\",\\\n",
    "                                       \"numSession\", \"avgAdvert\"],\\\n",
    "                            outputCol=\"inputFeatures\")\n",
    "\n",
    "#Normalize Data\n",
    "scaler = Normalizer(inputCol=\"inputFeatures\", outputCol=\"ScaledFeatures\")"
   ]
  },
  {
   "cell_type": "code",
   "execution_count": 26,
   "metadata": {},
   "outputs": [],
   "source": [
    "#create classifiers objects\n",
    "clf_LR = LogisticRegression(featuresCol=\"ScaledFeatures\", labelCol=\"label\", maxIter=10, regParam=0.01)\n",
    "clf_RF = RandomForestClassifier(featuresCol=\"ScaledFeatures\", labelCol=\"label\")\n",
    "clf_DT = DecisionTreeClassifier(featuresCol=\"ScaledFeatures\", labelCol=\"label\")\n",
    "clf_GBT = GBTClassifier(featuresCol=\"ScaledFeatures\", labelCol=\"label\")"
   ]
  },
  {
   "cell_type": "code",
   "execution_count": 27,
   "metadata": {},
   "outputs": [],
   "source": [
    "#Create Pipeline with transformers and estimators\n",
    "pipeline_lr = Pipeline(stages=[assembler, scaler, clf_LR])\n",
    "pipeline_rf = Pipeline(stages=[assembler, scaler, clf_RF])\n",
    "pipeline_dt = Pipeline(stages=[assembler, scaler, clf_DT])\n",
    "pipeline_gbt = Pipeline(stages=[assembler, scaler, clf_GBT])"
   ]
  },
  {
   "cell_type": "markdown",
   "metadata": {},
   "source": [
    "### Split full dataset into train/test sets"
   ]
  },
  {
   "cell_type": "code",
   "execution_count": 28,
   "metadata": {},
   "outputs": [],
   "source": [
    "train, test = new_features.randomSplit([0.7, 0.3], seed=7)"
   ]
  },
  {
   "cell_type": "markdown",
   "metadata": {},
   "source": [
    "### Train ML models"
   ]
  },
  {
   "cell_type": "code",
   "execution_count": 29,
   "metadata": {},
   "outputs": [
    {
     "name": "stdout",
     "output_type": "stream",
     "text": [
      "Execution time to train the Logistic Regression Model:145.91924953460693\n",
      "Execution time to train the Random Forest Model:175.97855973243713\n",
      "Execution time to train the Decision Tree Model:171.97584342956543\n",
      "Execution time to train the GBT Model:366.16128754615784\n",
      "Total execution time:860.0355205535889\n"
     ]
    }
   ],
   "source": [
    "#Fit train data to models and print execution time\n",
    "\n",
    "start_time= time.time()\n",
    "\n",
    "model_lr_fitted = pipeline_lr.fit(train)\n",
    "lr_time = time.time()\n",
    "print(\"Execution time to train the Logistic Regression Model:{}\".format(lr_time-start_time))\n",
    "model_rf_fitted = pipeline_rf.fit(train)\n",
    "rf_time = time.time()\n",
    "print(\"Execution time to train the Random Forest Model:{}\".format(rf_time-lr_time))\n",
    "model_dt_fitted = pipeline_rf.fit(train)\n",
    "dt_time = time.time()\n",
    "print(\"Execution time to train the Decision Tree Model:{}\".format(dt_time-rf_time))\n",
    "model_gbt_fitted = pipeline_gbt.fit(train)\n",
    "gbt_time = time.time()\n",
    "print(\"Execution time to train the GBT Model:{}\".format(gbt_time-dt_time))\n",
    "\n",
    "end_time= time.time()\n",
    "\n",
    "print(\"Total execution time:{}\".format(end_time-start_time))"
   ]
  },
  {
   "cell_type": "code",
   "execution_count": 30,
   "metadata": {},
   "outputs": [],
   "source": [
    "#Calculate performance metric\n",
    "def model_performance(model, test_set, metric):\n",
    "    \"\"\" Calculate Model Scores using f1 metric \n",
    "        Input: \n",
    "            model- trained model or pipeline object\n",
    "            metric- the metric used to measure performance\n",
    "            data - data on which performance measurement should be done\n",
    "        Output:\n",
    "            score\n",
    "    \"\"\"\n",
    "    evaluator = MulticlassClassificationEvaluator(metricName = metric)\n",
    "    prediction_result = model.transform(test_set)\n",
    "    # find f1 score\n",
    "    score = evaluator.evaluate(prediction_result)\n",
    "    #return score\n",
    "    return score"
   ]
  },
  {
   "cell_type": "code",
   "execution_count": 31,
   "metadata": {},
   "outputs": [
    {
     "name": "stdout",
     "output_type": "stream",
     "text": [
      "Logistic Regression Classifier Accuracy:0.8571428571428571\n",
      "Random Forest Classifier Accuracy:0.7714285714285715\n",
      "Decision Tree Classifier Accuracy:0.7714285714285715\n",
      "GBTClassifier Classifier Accuracy:0.7142857142857143\n"
     ]
    }
   ],
   "source": [
    "#print models accuracy\n",
    "print(\"Logistic Regression Classifier Accuracy:{}\".format(model_performance(model_lr_fitted, test, \"accuracy\")))\n",
    "print(\"Random Forest Classifier Accuracy:{}\".format(model_performance(model_rf_fitted, test, \"accuracy\")))\n",
    "print(\"Decision Tree Classifier Accuracy:{}\".format(model_performance(model_dt_fitted,test,\"accuracy\")))\n",
    "print(\"GBTClassifier Classifier Accuracy:{}\".format(model_performance(model_gbt_fitted,test,\"accuracy\")))"
   ]
  },
  {
   "cell_type": "code",
   "execution_count": 32,
   "metadata": {},
   "outputs": [
    {
     "name": "stdout",
     "output_type": "stream",
     "text": [
      "Logistic Regression Classifier f1-score:0.7912087912087912\n",
      "Random Forest Classifier f1-score:0.7465437788018434\n",
      "Decision Tree Classifier f1-score:0.7465437788018434\n",
      "GBTClassifier Classifier f1-score:0.7142857142857143\n"
     ]
    }
   ],
   "source": [
    "#print models f1 score\n",
    "print(\"Logistic Regression Classifier f1-score:{}\".format(model_performance(model_lr_fitted, test, \"f1\")))\n",
    "print(\"Random Forest Classifier f1-score:{}\".format(model_performance(model_rf_fitted, test, \"f1\")))\n",
    "print(\"Decision Tree Classifier f1-score:{}\".format(model_performance(model_dt_fitted,test, \"f1\")))\n",
    "print(\"GBTClassifier Classifier f1-score:{}\".format(model_performance(model_gbt_fitted,test,\"f1\")))"
   ]
  },
  {
   "cell_type": "markdown",
   "metadata": {},
   "source": [
    "As we can see above, the logistic regression is the best model until now on this project with a f1-score of almost 80%."
   ]
  },
  {
   "cell_type": "markdown",
   "metadata": {},
   "source": [
    "# Final Steps\n",
    "Clean up your code, adding comments and renaming variables to make the code easier to read and maintain. Refer to the Spark Project Overview page and Data Scientist Capstone Project Rubric to make sure you are including all components of the capstone project and meet all expectations. Remember, this includes thorough documentation in a README file in a Github repository, as well as a web app or blog post."
   ]
  },
  {
   "cell_type": "code",
   "execution_count": null,
   "metadata": {},
   "outputs": [],
   "source": []
  }
 ],
 "metadata": {
  "kernelspec": {
   "display_name": "Python 3",
   "language": "python",
   "name": "python3"
  },
  "language_info": {
   "codemirror_mode": {
    "name": "ipython",
    "version": 3
   },
   "file_extension": ".py",
   "mimetype": "text/x-python",
   "name": "python",
   "nbconvert_exporter": "python",
   "pygments_lexer": "ipython3",
   "version": "3.6.3"
  }
 },
 "nbformat": 4,
 "nbformat_minor": 2
}
